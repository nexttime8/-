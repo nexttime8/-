{
  "nbformat": 4,
  "nbformat_minor": 0,
  "metadata": {
    "colab": {
      "name": "Untitled0.ipynb",
      "provenance": [],
      "collapsed_sections": [],
      "authorship_tag": "ABX9TyNFjrws0vOUiVM4uMWf0f7G",
      "include_colab_link": true
    },
    "kernelspec": {
      "name": "python3",
      "display_name": "Python 3"
    },
    "language_info": {
      "name": "python"
    },
    "accelerator": "GPU"
  },
  "cells": [
    {
      "cell_type": "markdown",
      "metadata": {
        "id": "view-in-github",
        "colab_type": "text"
      },
      "source": [
        "<a href=\"https://colab.research.google.com/github/nexttime8/-/blob/master/Untitled0.ipynb\" target=\"_parent\"><img src=\"https://colab.research.google.com/assets/colab-badge.svg\" alt=\"Open In Colab\"/></a>"
      ]
    },
    {
      "cell_type": "code",
      "execution_count": null,
      "metadata": {
        "id": "6A0jOcebkdKj"
      },
      "outputs": [],
      "source": [
        ""
      ]
    },
    {
      "cell_type": "code",
      "source": [
        "from tensorflow import python\n",
        "import tensorflow as tf\n",
        "print('Google Colaboratory远程服务器中的Tensorflow版本：', tf.__version__)\n",
        "print('Google Colaboratory远程服务器中的Python版本及其位置：')\n",
        "print(python)\n",
        "\n",
        "!lsb_release -a\n",
        "\n"
      ],
      "metadata": {
        "colab": {
          "base_uri": "https://localhost:8080/"
        },
        "id": "CIRxCLG5lGwM",
        "outputId": "392aa44e-fe77-4d97-a75e-3c0e110042f2"
      },
      "execution_count": null,
      "outputs": [
        {
          "output_type": "stream",
          "name": "stdout",
          "text": [
            "Google Colaboratory远程服务器中的Tensorflow版本： 2.8.0\n",
            "Google Colaboratory远程服务器中的Python版本及其位置：\n",
            "<module 'tensorflow.python' from '/usr/local/lib/python3.7/dist-packages/tensorflow/python/__init__.py'>\n",
            "No LSB modules are available.\n",
            "Distributor ID:\tUbuntu\n",
            "Description:\tUbuntu 18.04.5 LTS\n",
            "Release:\t18.04\n",
            "Codename:\tbionic\n"
          ]
        }
      ]
    },
    {
      "cell_type": "code",
      "source": [
        "!nvidia-smi"
      ],
      "metadata": {
        "colab": {
          "base_uri": "https://localhost:8080/"
        },
        "id": "ixi6ofTKqFCF",
        "outputId": "8b8d2c4d-36b8-43f1-8522-93a7baecdb5e"
      },
      "execution_count": null,
      "outputs": [
        {
          "output_type": "stream",
          "name": "stdout",
          "text": [
            "Sun May 15 03:00:28 2022       \n",
            "+-----------------------------------------------------------------------------+\n",
            "| NVIDIA-SMI 460.32.03    Driver Version: 460.32.03    CUDA Version: 11.2     |\n",
            "|-------------------------------+----------------------+----------------------+\n",
            "| GPU  Name        Persistence-M| Bus-Id        Disp.A | Volatile Uncorr. ECC |\n",
            "| Fan  Temp  Perf  Pwr:Usage/Cap|         Memory-Usage | GPU-Util  Compute M. |\n",
            "|                               |                      |               MIG M. |\n",
            "|===============================+======================+======================|\n",
            "|   0  Tesla T4            Off  | 00000000:00:04.0 Off |                    0 |\n",
            "| N/A   33C    P8     9W /  70W |      0MiB / 15109MiB |      0%      Default |\n",
            "|                               |                      |                  N/A |\n",
            "+-------------------------------+----------------------+----------------------+\n",
            "                                                                               \n",
            "+-----------------------------------------------------------------------------+\n",
            "| Processes:                                                                  |\n",
            "|  GPU   GI   CI        PID   Type   Process name                  GPU Memory |\n",
            "|        ID   ID                                                   Usage      |\n",
            "|=============================================================================|\n",
            "|  No running processes found                                                 |\n",
            "+-----------------------------------------------------------------------------+\n"
          ]
        }
      ]
    },
    {
      "cell_type": "code",
      "source": [
        "!nvcc --version"
      ],
      "metadata": {
        "colab": {
          "base_uri": "https://localhost:8080/"
        },
        "id": "pJv4TvoVqTbW",
        "outputId": "c6af0ced-bd6e-47df-c716-638d5f9a3a21"
      },
      "execution_count": null,
      "outputs": [
        {
          "output_type": "stream",
          "name": "stdout",
          "text": [
            "nvcc: NVIDIA (R) Cuda compiler driver\n",
            "Copyright (c) 2005-2020 NVIDIA Corporation\n",
            "Built on Mon_Oct_12_20:09:46_PDT_2020\n",
            "Cuda compilation tools, release 11.1, V11.1.105\n",
            "Build cuda_11.1.TC455_06.29190527_0\n"
          ]
        }
      ]
    },
    {
      "cell_type": "code",
      "source": [
        "from tensorflow.python.client import device_lib\n",
        "device_lib.list_local_devices()\n",
        "\n"
      ],
      "metadata": {
        "colab": {
          "base_uri": "https://localhost:8080/"
        },
        "id": "6wUhjGeVqngZ",
        "outputId": "ca980e0a-f848-44d5-a37a-6254a1b24259"
      },
      "execution_count": null,
      "outputs": [
        {
          "output_type": "execute_result",
          "data": {
            "text/plain": [
              "[name: \"/device:CPU:0\"\n",
              " device_type: \"CPU\"\n",
              " memory_limit: 268435456\n",
              " locality {\n",
              " }\n",
              " incarnation: 14105349514382736841\n",
              " xla_global_id: -1, name: \"/device:GPU:0\"\n",
              " device_type: \"GPU\"\n",
              " memory_limit: 14465892352\n",
              " locality {\n",
              "   bus_id: 1\n",
              "   links {\n",
              "   }\n",
              " }\n",
              " incarnation: 15213935254114724956\n",
              " physical_device_desc: \"device: 0, name: Tesla T4, pci bus id: 0000:00:04.0, compute capability: 7.5\"\n",
              " xla_global_id: 416903419]"
            ]
          },
          "metadata": {},
          "execution_count": 5
        }
      ]
    },
    {
      "cell_type": "code",
      "source": [
        "import tensorflow as tf\n",
        "tf.test.gpu_device_name()\n",
        "\n"
      ],
      "metadata": {
        "colab": {
          "base_uri": "https://localhost:8080/",
          "height": 37
        },
        "id": "YMjdL-gEqyZY",
        "outputId": "854f8519-2f89-4e69-a215-8d5792d6811a"
      },
      "execution_count": null,
      "outputs": [
        {
          "output_type": "execute_result",
          "data": {
            "text/plain": [
              "'/device:GPU:0'"
            ],
            "application/vnd.google.colaboratory.intrinsic+json": {
              "type": "string"
            }
          },
          "metadata": {},
          "execution_count": 6
        }
      ]
    },
    {
      "cell_type": "code",
      "source": [
        "from google.colab import drive\n",
        "drive.mount('/content/gdrive')\n",
        "# Google Colaboratory挂载谷歌云盘（Google Drive）\n",
        "\n"
      ],
      "metadata": {
        "colab": {
          "base_uri": "https://localhost:8080/"
        },
        "id": "-WoL3XVsrL2y",
        "outputId": "f9badde3-d14d-4c28-f323-fae356a8ff34"
      },
      "execution_count": null,
      "outputs": [
        {
          "output_type": "stream",
          "name": "stdout",
          "text": [
            "Mounted at /content/gdrive\n"
          ]
        }
      ]
    },
    {
      "cell_type": "code",
      "source": [
        "from google.colab import files\n",
        "\n",
        "uploaded = files.upload()\n",
        "for fn in uploaded.keys():\n",
        "  print('上传的文件 \"{name}\" 有 {length} 比特'.format(\n",
        "      name=fn, length=len(uploaded[fn])))\n",
        "\n",
        "\n",
        "#  加载本地数据到云盘上"
      ],
      "metadata": {
        "id": "5q9cS_qutM1T"
      },
      "execution_count": null,
      "outputs": []
    },
    {
      "cell_type": "code",
      "source": [
        "from google.colab import files\n",
        "files.download('./exam.txt') #Deep learning文件夹下的文件\n",
        "# 下载云盘数据到本地\n",
        "\n"
      ],
      "metadata": {
        "id": "SF4zLz-Ws5yy"
      },
      "execution_count": null,
      "outputs": []
    },
    {
      "cell_type": "code",
      "source": [
        "!wget \"https://pypi.python.org/packages/source/p/pip/pip-1.5.4.tar.gz#md5=834b2904f92d46aaa333267fb1c922bb\" --no-check-certificate"
      ],
      "metadata": {
        "colab": {
          "base_uri": "https://localhost:8080/"
        },
        "id": "uJJHzdFu6Fk7",
        "outputId": "bb01be81-eaeb-4414-89f7-8ed64ceff379"
      },
      "execution_count": null,
      "outputs": [
        {
          "output_type": "stream",
          "name": "stdout",
          "text": [
            "--2022-05-15 04:13:57--  https://pypi.python.org/packages/source/p/pip/pip-1.5.4.tar.gz\n",
            "Resolving pypi.python.org (pypi.python.org)... 151.101.52.223, 2a04:4e42:d::223\n",
            "Connecting to pypi.python.org (pypi.python.org)|151.101.52.223|:443... connected.\n",
            "HTTP request sent, awaiting response... 301 Redirect to Primary Domain\n",
            "Location: https://pypi.org/packages/source/p/pip/pip-1.5.4.tar.gz [following]\n",
            "--2022-05-15 04:13:57--  https://pypi.org/packages/source/p/pip/pip-1.5.4.tar.gz\n",
            "Resolving pypi.org (pypi.org)... 151.101.192.223, 151.101.128.223, 151.101.64.223, ...\n",
            "Connecting to pypi.org (pypi.org)|151.101.192.223|:443... connected.\n",
            "HTTP request sent, awaiting response... 301 Moved Permanently\n",
            "Location: https://files.pythonhosted.org/packages/source/p/pip/pip-1.5.4.tar.gz [following]\n",
            "--2022-05-15 04:13:57--  https://files.pythonhosted.org/packages/source/p/pip/pip-1.5.4.tar.gz\n",
            "Resolving files.pythonhosted.org (files.pythonhosted.org)... 151.101.1.63, 151.101.65.63, 151.101.129.63, ...\n",
            "Connecting to files.pythonhosted.org (files.pythonhosted.org)|151.101.1.63|:443... connected.\n",
            "HTTP request sent, awaiting response... 302 Found\n",
            "Location: https://files.pythonhosted.org/packages/78/d8/6e58a7130d457edadb753a0ea5708e411c100c7e94e72ad4802feeef735c/pip-1.5.4.tar.gz [following]\n",
            "--2022-05-15 04:13:57--  https://files.pythonhosted.org/packages/78/d8/6e58a7130d457edadb753a0ea5708e411c100c7e94e72ad4802feeef735c/pip-1.5.4.tar.gz\n",
            "Reusing existing connection to files.pythonhosted.org:443.\n",
            "HTTP request sent, awaiting response... 200 OK\n",
            "Length: 1081874 (1.0M) [application/octet-stream]\n",
            "Saving to: ‘pip-1.5.4.tar.gz’\n",
            "\n",
            "pip-1.5.4.tar.gz    100%[===================>]   1.03M  --.-KB/s    in 0.03s   \n",
            "\n",
            "2022-05-15 04:13:57 (32.3 MB/s) - ‘pip-1.5.4.tar.gz’ saved [1081874/1081874]\n",
            "\n"
          ]
        }
      ]
    },
    {
      "cell_type": "code",
      "source": [
        "import os, sys\n",
        "from google.colab import drive\n",
        "drive.mount('/content/gdrive')\n",
        "nb_path = '/content/notebooks'\n",
        "os.symlink('/content/gdrive/MyDrive/Deeplearning', nb_path)\n",
        "sys.path.insert(0,nb_path)"
      ],
      "metadata": {
        "colab": {
          "base_uri": "https://localhost:8080/",
          "height": 303
        },
        "id": "MqXej16Q7GmK",
        "outputId": "4d2c68b1-4dc9-4927-df04-ece1a99a9611"
      },
      "execution_count": null,
      "outputs": [
        {
          "output_type": "stream",
          "name": "stdout",
          "text": [
            "Drive already mounted at /content/gdrive; to attempt to forcibly remount, call drive.mount(\"/content/gdrive\", force_remount=True).\n"
          ]
        },
        {
          "output_type": "error",
          "ename": "FileExistsError",
          "evalue": "ignored",
          "traceback": [
            "\u001b[0;31m---------------------------------------------------------------------------\u001b[0m",
            "\u001b[0;31mFileExistsError\u001b[0m                           Traceback (most recent call last)",
            "\u001b[0;32m<ipython-input-14-b053f67bbc92>\u001b[0m in \u001b[0;36m<module>\u001b[0;34m()\u001b[0m\n\u001b[1;32m      3\u001b[0m \u001b[0mdrive\u001b[0m\u001b[0;34m.\u001b[0m\u001b[0mmount\u001b[0m\u001b[0;34m(\u001b[0m\u001b[0;34m'/content/gdrive'\u001b[0m\u001b[0;34m)\u001b[0m\u001b[0;34m\u001b[0m\u001b[0;34m\u001b[0m\u001b[0m\n\u001b[1;32m      4\u001b[0m \u001b[0mnb_path\u001b[0m \u001b[0;34m=\u001b[0m \u001b[0;34m'/content/notebooks'\u001b[0m\u001b[0;34m\u001b[0m\u001b[0;34m\u001b[0m\u001b[0m\n\u001b[0;32m----> 5\u001b[0;31m \u001b[0mos\u001b[0m\u001b[0;34m.\u001b[0m\u001b[0msymlink\u001b[0m\u001b[0;34m(\u001b[0m\u001b[0;34m'/content/gdrive/MyDrive/Deeplearning'\u001b[0m\u001b[0;34m,\u001b[0m \u001b[0mnb_path\u001b[0m\u001b[0;34m)\u001b[0m\u001b[0;34m\u001b[0m\u001b[0;34m\u001b[0m\u001b[0m\n\u001b[0m\u001b[1;32m      6\u001b[0m \u001b[0msys\u001b[0m\u001b[0;34m.\u001b[0m\u001b[0mpath\u001b[0m\u001b[0;34m.\u001b[0m\u001b[0minsert\u001b[0m\u001b[0;34m(\u001b[0m\u001b[0;36m0\u001b[0m\u001b[0;34m,\u001b[0m\u001b[0mnb_path\u001b[0m\u001b[0;34m)\u001b[0m\u001b[0;34m\u001b[0m\u001b[0;34m\u001b[0m\u001b[0m\n",
            "\u001b[0;31mFileExistsError\u001b[0m: [Errno 17] File exists: '/content/gdrive/MyDrive/Deeplearning' -> '/content/notebooks'"
          ]
        }
      ]
    },
    {
      "cell_type": "code",
      "source": [
        "# 永久下载包\n",
        "!pip install --target=$nb_path "
      ],
      "metadata": {
        "id": "6XxhtLKR8oZW",
        "colab": {
          "base_uri": "https://localhost:8080/"
        },
        "outputId": "01904b07-9269-4dc5-af7b-cea2c062225f"
      },
      "execution_count": 83,
      "outputs": [
        {
          "output_type": "stream",
          "name": "stdout",
          "text": [
            "\u001b[31mERROR: You must give at least one requirement to install (see \"pip help install\")\u001b[0m\n"
          ]
        }
      ]
    },
    {
      "cell_type": "code",
      "source": [
        "!git clone https://github.com/lunarwhite/students-inclassroom-monitoring.git"
      ],
      "metadata": {
        "colab": {
          "base_uri": "https://localhost:8080/"
        },
        "id": "-ny3-WYq87EQ",
        "outputId": "c39e62f6-d1eb-4252-e9cb-101c88bddc59"
      },
      "execution_count": null,
      "outputs": [
        {
          "output_type": "stream",
          "name": "stdout",
          "text": [
            "Cloning into 'students-inclassroom-monitoring'...\n",
            "remote: Enumerating objects: 136, done.\u001b[K\n",
            "remote: Counting objects: 100% (136/136), done.\u001b[K\n",
            "remote: Compressing objects: 100% (107/107), done.\u001b[K\n",
            "remote: Total 136 (delta 42), reused 106 (delta 27), pack-reused 0\u001b[K\n",
            "Receiving objects: 100% (136/136), 3.26 MiB | 12.93 MiB/s, done.\n",
            "Resolving deltas: 100% (42/42), done.\n"
          ]
        }
      ]
    },
    {
      "cell_type": "code",
      "source": [
        "!pip3 install --upgrade pip"
      ],
      "metadata": {
        "colab": {
          "base_uri": "https://localhost:8080/"
        },
        "id": "6z4xu_ZE8KLF",
        "outputId": "7a27fb13-3c4d-4f74-e2d3-2edd1a085fbc"
      },
      "execution_count": null,
      "outputs": [
        {
          "output_type": "stream",
          "name": "stdout",
          "text": [
            "Requirement already satisfied: pip in /usr/local/lib/python3.7/dist-packages (21.1.3)\n",
            "Collecting pip\n",
            "  Downloading pip-22.1-py3-none-any.whl (2.1 MB)\n",
            "\u001b[K     |████████████████████████████████| 2.1 MB 7.9 MB/s \n",
            "\u001b[?25hInstalling collected packages: pip\n",
            "  Attempting uninstall: pip\n",
            "    Found existing installation: pip 21.1.3\n",
            "    Uninstalling pip-21.1.3:\n",
            "      Successfully uninstalled pip-21.1.3\n",
            "Successfully installed pip-22.1\n"
          ]
        }
      ]
    },
    {
      "cell_type": "code",
      "source": [
        "# 要下载miniconda\n",
        "%%bash\n",
        "MINICONDA_INSTALLER_SCRIPT=Miniconda3-4.5.4-Linux-x86_64.sh\n",
        "MINICONDA_PREFIX=/usr/local\n",
        "wget https://repo.continuum.io/miniconda/$MINICONDA_INSTALLER_SCRIPT\n",
        "chmod +x $MINICONDA_INSTALLER_SCRIPT\n",
        "./$MINICONDA_INSTALLER_SCRIPT -b -f -p $MINICONDA_PREFIX"
      ],
      "metadata": {
        "id": "cu-NdWte9FtF"
      },
      "execution_count": null,
      "outputs": []
    },
    {
      "cell_type": "code",
      "source": [
        "!conda install --channel defaults conda python=3.8 --yes\n",
        "!conda update --channel defaults --all --yes"
      ],
      "metadata": {
        "colab": {
          "base_uri": "https://localhost:8080/"
        },
        "id": "2rPvmFiFUqP5",
        "outputId": "85e15684-c985-4af3-8034-bce0b4bfab35"
      },
      "execution_count": 89,
      "outputs": [
        {
          "output_type": "stream",
          "name": "stdout",
          "text": [
            "Solving environment: - \b\b\\ \b\b| \b\b/ \b\b- \b\b\\ \b\b| \b\b/ \b\b- \b\b\\ \b\b| \b\b/ \b\b- \b\b\\ \b\b| \b\b/ \b\b- \b\b\\ \b\b| \b\b/ \b\b- \b\b\\ \b\b| \b\b/ \b\b- \b\b\\ \b\b| \b\b/ \b\b- \b\b\\ \b\b| \b\b/ \b\b- \b\b\\ \b\b| \b\b/ \b\b- \b\b\\ \b\b| \b\b/ \b\b- \b\b\\ \b\b| \b\b/ \b\b- \b\b\\ \b\b| \b\b/ \b\b- \b\b\\ \b\b| \b\b/ \b\b- \b\b\\ \b\b| \b\b/ \b\b- \b\b\\ \b\b| \b\b/ \b\b- \b\b\\ \b\b| \b\b/ \b\b- \b\b\\ \b\b| \b\b/ \b\b- \b\b\\ \b\b| \b\b/ \b\b- \b\b\\ \b\b| \b\b/ \b\b- \b\b\\ \b\b| \b\b/ \b\b- \b\b\\ \b\b| \b\b/ \b\b- \b\b\\ \b\b| \b\b/ \b\b- \b\b\\ \b\b| \b\b/ \b\b- \b\b\\ \b\b| \b\b/ \b\b- \b\b\\ \b\b| \b\b/ \b\b- \b\b\\ \b\b| \b\b/ \b\b- \b\b\\ \b\b| \b\b/ \b\b- \b\b\\ \b\b| \b\b/ \b\b- \b\b\\ \b\b| \b\b/ \b\b- \b\b\\ \b\bdone\n",
            "\n",
            "## Package Plan ##\n",
            "\n",
            "  environment location: /usr/local\n",
            "\n",
            "  added / updated specs: \n",
            "    - conda\n",
            "    - python=3.8\n",
            "\n",
            "\n",
            "The following packages will be downloaded:\n",
            "\n",
            "    package                    |            build\n",
            "    ---------------------------|-----------------\n",
            "    pyopenssl-22.0.0           |     pyhd3eb1b0_0          49 KB\n",
            "    cffi-1.15.0                |   py38hd667e15_1         226 KB\n",
            "    conda-4.12.0               |   py38h06a4308_0        16.9 MB\n",
            "    tqdm-4.64.0                |   py38h06a4308_0         122 KB\n",
            "    pycparser-2.21             |     pyhd3eb1b0_0          94 KB\n",
            "    urllib3-1.26.9             |   py38h06a4308_0         177 KB\n",
            "    charset-normalizer-2.0.4   |     pyhd3eb1b0_0          33 KB\n",
            "    yaml-0.2.5                 |       h7b6447c_0          87 KB\n",
            "    ld_impl_linux-64-2.38      |       h1181459_0         739 KB\n",
            "    brotlipy-0.7.0             |py38h27cfd23_1003         349 KB\n",
            "    pycosat-0.6.3              |   py38h7b6447c_1         107 KB\n",
            "    pysocks-1.7.1              |   py38h06a4308_0          31 KB\n",
            "    ruamel_yaml-0.15.100       |   py38h27cfd23_0         270 KB\n",
            "    conda-package-handling-1.8.1|   py38h7f8727e_0         970 KB\n",
            "    cryptography-37.0.1        |   py38h9ce1e76_0         1.5 MB\n",
            "    requests-2.27.1            |     pyhd3eb1b0_0          52 KB\n",
            "    idna-3.3                   |     pyhd3eb1b0_0          55 KB\n",
            "    ------------------------------------------------------------\n",
            "                                           Total:        21.7 MB\n",
            "\n",
            "The following NEW packages will be INSTALLED:\n",
            "\n",
            "    _libgcc_mutex:          0.1-main               \n",
            "    brotlipy:               0.7.0-py38h27cfd23_1003\n",
            "    charset-normalizer:     2.0.4-pyhd3eb1b0_0     \n",
            "    conda-package-handling: 1.8.1-py38h7f8727e_0   \n",
            "    ld_impl_linux-64:       2.38-h1181459_0        \n",
            "    tqdm:                   4.64.0-py38h06a4308_0  \n",
            "\n",
            "The following packages will be UPDATED:\n",
            "\n",
            "    ca-certificates:        2018.03.07-0            --> 2022.4.26-h06a4308_0    \n",
            "    certifi:                2018.4.16-py36_0        --> 2021.10.8-py38h06a4308_2\n",
            "    cffi:                   1.11.5-py36h9745a5d_0   --> 1.15.0-py38hd667e15_1   \n",
            "    conda:                  4.5.4-py36_0            --> 4.12.0-py38h06a4308_0   \n",
            "    cryptography:           2.2.2-py36h14c3975_0    --> 37.0.1-py38h9ce1e76_0   \n",
            "    idna:                   2.6-py36h82fb2a8_1      --> 3.3-pyhd3eb1b0_0        \n",
            "    libffi:                 3.2.1-hd88cf55_4        --> 3.3-he6710b0_2          \n",
            "    libgcc-ng:              7.2.0-hdf63c60_3        --> 9.1.0-hdf63c60_0        \n",
            "    libstdcxx-ng:           7.2.0-hdf63c60_3        --> 9.1.0-hdf63c60_0        \n",
            "    ncurses:                6.1-hf484d3e_0          --> 6.3-h7f8727e_2          \n",
            "    openssl:                1.0.2o-h20670df_0       --> 1.1.1o-h7f8727e_0       \n",
            "    pip:                    10.0.1-py36_0           --> 21.2.4-py38h06a4308_0   \n",
            "    pycosat:                0.6.3-py36h0a5515d_0    --> 0.6.3-py38h7b6447c_1    \n",
            "    pycparser:              2.18-py36hf9f622e_1     --> 2.21-pyhd3eb1b0_0       \n",
            "    pyopenssl:              18.0.0-py36_0           --> 22.0.0-pyhd3eb1b0_0     \n",
            "    pysocks:                1.6.8-py36_0            --> 1.7.1-py38h06a4308_0    \n",
            "    python:                 3.6.5-hc3d631a_2        --> 3.8.13-h12debd9_0       \n",
            "    readline:               7.0-ha6073c6_4          --> 8.1.2-h7f8727e_1        \n",
            "    requests:               2.18.4-py36he2e5f8d_1   --> 2.27.1-pyhd3eb1b0_0     \n",
            "    ruamel_yaml:            0.15.37-py36h14c3975_2  --> 0.15.100-py38h27cfd23_0 \n",
            "    setuptools:             39.2.0-py36_0           --> 61.2.0-py38h06a4308_0   \n",
            "    sqlite:                 3.23.1-he433501_0       --> 3.38.3-hc218d9a_0       \n",
            "    tk:                     8.6.7-hc745277_3        --> 8.6.11-h1ccaba5_1       \n",
            "    urllib3:                1.22-py36hbe7ace6_0     --> 1.26.9-py38h06a4308_0   \n",
            "    wheel:                  0.31.1-py36_0           --> 0.37.1-pyhd3eb1b0_0     \n",
            "    xz:                     5.2.4-h14c3975_4        --> 5.2.5-h7f8727e_1        \n",
            "    yaml:                   0.1.7-had09818_2        --> 0.2.5-h7b6447c_0        \n",
            "    zlib:                   1.2.11-ha838bed_2       --> 1.2.12-h7f8727e_2       \n",
            "\n",
            "\n",
            "Downloading and Extracting Packages\n",
            "pyopenssl-22.0.0     |   49 KB | : 100% 1.0/1 [00:00<00:00, 23.23it/s]\n",
            "cffi-1.15.0          |  226 KB | : 100% 1.0/1 [00:00<00:00, 13.06it/s]\n",
            "conda-4.12.0         | 16.9 MB | : 100% 1.0/1 [00:04<00:00,  4.16s/it]               \n",
            "tqdm-4.64.0          |  122 KB | : 100% 1.0/1 [00:00<00:00, 13.99it/s]\n",
            "pycparser-2.21       |   94 KB | : 100% 1.0/1 [00:00<00:00, 18.05it/s]\n",
            "urllib3-1.26.9       |  177 KB | : 100% 1.0/1 [00:00<00:00, 12.52it/s]\n",
            "charset-normalizer-2 |   33 KB | : 100% 1.0/1 [00:00<00:00, 25.17it/s]\n",
            "yaml-0.2.5           |   87 KB | : 100% 1.0/1 [00:00<00:00, 14.58it/s]\n",
            "ld_impl_linux-64-2.3 |  739 KB | : 100% 1.0/1 [00:00<00:00,  6.25it/s]               \n",
            "brotlipy-0.7.0       |  349 KB | : 100% 1.0/1 [00:00<00:00, 11.21it/s]\n",
            "pycosat-0.6.3        |  107 KB | : 100% 1.0/1 [00:00<00:00, 18.00it/s]\n",
            "pysocks-1.7.1        |   31 KB | : 100% 1.0/1 [00:00<00:00, 29.61it/s]\n",
            "ruamel_yaml-0.15.100 |  270 KB | : 100% 1.0/1 [00:00<00:00, 10.88it/s]\n",
            "conda-package-handli |  970 KB | : 100% 1.0/1 [00:00<00:00,  6.50it/s]               \n",
            "cryptography-37.0.1  |  1.5 MB | : 100% 1.0/1 [00:00<00:00,  2.73it/s]               \n",
            "requests-2.27.1      |   52 KB | : 100% 1.0/1 [00:00<00:00, 22.43it/s]\n",
            "idna-3.3             |   55 KB | : 100% 1.0/1 [00:00<00:00, 27.48it/s]\n",
            "Preparing transaction: / \b\b- \b\b\\ \b\b| \b\b/ \b\bdone\n",
            "Verifying transaction: \\ \b\b| \b\b/ \b\b- \b\b\\ \b\b| \b\b/ \b\b- \b\b\\ \b\b| \b\b/ \b\b- \b\b\\ \b\b| \b\b/ \b\b- \b\b\\ \b\b| \b\bdone\n",
            "Executing transaction: - \b\b\\ \b\b| \b\b/ \b\b- \b\b\\ \b\b| \b\b/ \b\b- \b\b\\ \b\b| \b\b/ \b\b- \b\b\\ \b\b| \b\b/ \b\b- \b\b\\ \b\b| \b\b/ \b\b- \b\b\\ \b\b| \b\b/ \b\b- \b\b\\ \b\b| \b\b/ \b\b- \b\b\\ \b\b| \b\b/ \b\b- \b\b\\ \b\b| \b\b/ \b\b- \b\b\\ \b\b| \b\b/ \b\b- \b\b\\ \b\bdone\n",
            "Collecting package metadata (current_repodata.json): - \b\b\\ \b\b| \b\b/ \b\b- \b\b\\ \b\b| \b\b/ \b\b- \b\b\\ \b\b| \b\b/ \b\b- \b\b\\ \b\b| \b\b/ \b\bdone\n",
            "Solving environment: \\ \b\b| \b\b/ \b\b- \n",
            "The environment is inconsistent, please check the package plan carefully\n",
            "The following packages are causing the inconsistency:\n",
            "\n",
            "  - defaults/linux-64::chardet==3.0.4=py36h0f667ec_1\n",
            "  - defaults/linux-64::asn1crypto==0.24.0=py36_0\n",
            "  - defaults/linux-64::six==1.11.0=py36h372c433_1\n",
            "\b\b\\ \b\bdone\n",
            "\n",
            "## Package Plan ##\n",
            "\n",
            "  environment location: /usr/local\n",
            "\n",
            "\n",
            "The following packages will be downloaded:\n",
            "\n",
            "    package                    |            build\n",
            "    ---------------------------|-----------------\n",
            "    _openmp_mutex-4.5          |            1_gnu          22 KB\n",
            "    libgcc-ng-9.3.0            |      h5101ec6_17         4.8 MB\n",
            "    libgomp-9.3.0              |      h5101ec6_17         311 KB\n",
            "    libstdcxx-ng-9.3.0         |      hd4cf53a_17         3.1 MB\n",
            "    ------------------------------------------------------------\n",
            "                                           Total:         8.2 MB\n",
            "\n",
            "The following NEW packages will be INSTALLED:\n",
            "\n",
            "  _openmp_mutex      pkgs/main/linux-64::_openmp_mutex-4.5-1_gnu\n",
            "  libgomp            pkgs/main/linux-64::libgomp-9.3.0-h5101ec6_17\n",
            "\n",
            "The following packages will be UPDATED:\n",
            "\n",
            "  libgcc-ng                                9.1.0-hdf63c60_0 --> 9.3.0-h5101ec6_17\n",
            "  libstdcxx-ng                             9.1.0-hdf63c60_0 --> 9.3.0-hd4cf53a_17\n",
            "\n",
            "\n",
            "\n",
            "Downloading and Extracting Packages\n",
            "libstdcxx-ng-9.3.0   | 3.1 MB    | : 100% 1.0/1 [00:00<00:00,  5.08it/s]               \n",
            "_openmp_mutex-4.5    | 22 KB     | : 100% 1.0/1 [00:00<00:00, 21.96it/s]\n",
            "libgcc-ng-9.3.0      | 4.8 MB    | : 100% 1.0/1 [00:00<00:00,  5.37it/s]\n",
            "libgomp-9.3.0        | 311 KB    | : 100% 1.0/1 [00:00<00:00, 16.33it/s]\n",
            "Preparing transaction: / \b\bdone\n",
            "Verifying transaction: \\ \b\bdone\n",
            "Executing transaction: / \b\bdone\n"
          ]
        }
      ]
    },
    {
      "cell_type": "code",
      "source": [
        "!conda create --name graduation_design python=3.8"
      ],
      "metadata": {
        "colab": {
          "base_uri": "https://localhost:8080/"
        },
        "id": "SJUrNAnF8u7-",
        "outputId": "4f1d6390-14e3-4abb-b703-cf348dae05cf"
      },
      "execution_count": 81,
      "outputs": [
        {
          "output_type": "stream",
          "name": "stdout",
          "text": [
            "\n",
            "CondaValueError: prefix already exists: /usr/local/envs/graduation_design\n",
            "\n"
          ]
        }
      ]
    },
    {
      "cell_type": "code",
      "source": [
        "!conda env list"
      ],
      "metadata": {
        "colab": {
          "base_uri": "https://localhost:8080/"
        },
        "id": "fJrnDW4fJaoa",
        "outputId": "a464b1f1-e92e-42ac-888d-7d9347d9fccd"
      },
      "execution_count": 82,
      "outputs": [
        {
          "output_type": "stream",
          "name": "stdout",
          "text": [
            "# conda environments:\n",
            "#\n",
            "base                  *  /usr/local\n",
            "graduation_design        /usr/local/envs/graduation_design\n",
            "\n"
          ]
        }
      ]
    },
    {
      "cell_type": "code",
      "source": [
        "!source activate graduation_design"
      ],
      "metadata": {
        "id": "DbJtsRWh-Xq_"
      },
      "execution_count": 87,
      "outputs": []
    },
    {
      "cell_type": "code",
      "source": [
        "!source activate"
      ],
      "metadata": {
        "id": "wP6zGiaaSu_n"
      },
      "execution_count": 84,
      "outputs": []
    },
    {
      "cell_type": "code",
      "source": [
        "!sudo pip3 install -r requirements.txt"
      ],
      "metadata": {
        "colab": {
          "base_uri": "https://localhost:8080/"
        },
        "id": "oPLTe5zG-hii",
        "outputId": "873bc801-efcb-4ffb-8216-699e36b05275"
      },
      "execution_count": 90,
      "outputs": [
        {
          "output_type": "stream",
          "name": "stdout",
          "text": [
            "Collecting matplotlib>=3.2.2\n",
            "  Downloading matplotlib-3.5.2-cp38-cp38-manylinux_2_5_x86_64.manylinux1_x86_64.whl (11.3 MB)\n",
            "\u001b[K     |████████████████████████████████| 11.3 MB 8.6 MB/s \n",
            "\u001b[?25hCollecting numpy>=1.18.5\n",
            "  Downloading numpy-1.22.3-cp38-cp38-manylinux_2_17_x86_64.manylinux2014_x86_64.whl (16.8 MB)\n",
            "\u001b[K     |████████████████████████████████| 16.8 MB 67.7 MB/s \n",
            "\u001b[?25hCollecting opencv-python>=4.1.2\n",
            "  Downloading opencv_python-4.5.5.64-cp36-abi3-manylinux_2_17_x86_64.manylinux2014_x86_64.whl (60.5 MB)\n",
            "\u001b[K     |████████████████████████████████| 60.5 MB 1.1 MB/s \n",
            "\u001b[?25hCollecting Pillow\n",
            "  Downloading Pillow-9.1.0-cp38-cp38-manylinux_2_17_x86_64.manylinux2014_x86_64.whl (4.3 MB)\n",
            "\u001b[K     |████████████████████████████████| 4.3 MB 66.6 MB/s \n",
            "\u001b[?25hCollecting PyYAML>=5.3.1\n",
            "  Downloading PyYAML-6.0-cp38-cp38-manylinux_2_5_x86_64.manylinux1_x86_64.manylinux_2_12_x86_64.manylinux2010_x86_64.whl (701 kB)\n",
            "\u001b[K     |████████████████████████████████| 701 kB 59.6 MB/s \n",
            "\u001b[?25hCollecting scipy>=1.4.1\n",
            "  Downloading scipy-1.8.0-cp38-cp38-manylinux_2_17_x86_64.manylinux2014_x86_64.whl (41.6 MB)\n",
            "\u001b[K     |████████████████████████████████| 41.6 MB 1.1 MB/s \n",
            "\u001b[?25hCollecting torch>=1.7.0\n",
            "  Downloading torch-1.11.0-cp38-cp38-manylinux1_x86_64.whl (750.6 MB)\n",
            "\u001b[K     |████████████████████████████████| 750.6 MB 18 kB/s \n",
            "\u001b[?25hCollecting torchvision>=0.8.1\n",
            "  Downloading torchvision-0.12.0-cp38-cp38-manylinux1_x86_64.whl (21.0 MB)\n",
            "\u001b[K     |████████████████████████████████| 21.0 MB 1.1 MB/s \n",
            "\u001b[?25hRequirement already satisfied: tqdm>=4.41.0 in /usr/local/lib/python3.8/site-packages (from -r requirements.txt (line 12)) (4.64.0)\n",
            "Collecting tensorboard>=2.4.1\n",
            "  Downloading tensorboard-2.9.0-py3-none-any.whl (5.8 MB)\n",
            "\u001b[K     |████████████████████████████████| 5.8 MB 66.9 MB/s \n",
            "\u001b[?25hCollecting seaborn>=0.11.0\n",
            "  Downloading seaborn-0.11.2-py3-none-any.whl (292 kB)\n",
            "\u001b[K     |████████████████████████████████| 292 kB 80.0 MB/s \n",
            "\u001b[?25hCollecting pandas\n",
            "  Downloading pandas-1.4.2-cp38-cp38-manylinux_2_17_x86_64.manylinux2014_x86_64.whl (11.7 MB)\n",
            "\u001b[K     |████████████████████████████████| 11.7 MB 61.8 MB/s \n",
            "\u001b[?25hCollecting thop\n",
            "  Using cached thop-0.0.31.post2005241907-py3-none-any.whl (8.7 kB)\n",
            "Collecting pyparsing>=2.2.1\n",
            "  Downloading pyparsing-3.0.9-py3-none-any.whl (98 kB)\n",
            "\u001b[K     |████████████████████████████████| 98 kB 10.5 MB/s \n",
            "\u001b[?25hCollecting cycler>=0.10\n",
            "  Downloading cycler-0.11.0-py3-none-any.whl (6.4 kB)\n",
            "Collecting packaging>=20.0\n",
            "  Downloading packaging-21.3-py3-none-any.whl (40 kB)\n",
            "\u001b[K     |████████████████████████████████| 40 kB 7.7 MB/s \n",
            "\u001b[?25hCollecting python-dateutil>=2.7\n",
            "  Downloading python_dateutil-2.8.2-py2.py3-none-any.whl (247 kB)\n",
            "\u001b[K     |████████████████████████████████| 247 kB 76.9 MB/s \n",
            "\u001b[?25hCollecting fonttools>=4.22.0\n",
            "  Downloading fonttools-4.33.3-py3-none-any.whl (930 kB)\n",
            "\u001b[K     |████████████████████████████████| 930 kB 49.6 MB/s \n",
            "\u001b[?25hCollecting kiwisolver>=1.0.1\n",
            "  Downloading kiwisolver-1.4.2-cp38-cp38-manylinux_2_5_x86_64.manylinux1_x86_64.whl (1.2 MB)\n",
            "\u001b[K     |████████████████████████████████| 1.2 MB 58.1 MB/s \n",
            "\u001b[?25hCollecting typing-extensions\n",
            "  Downloading typing_extensions-4.2.0-py3-none-any.whl (24 kB)\n",
            "Requirement already satisfied: requests in /usr/local/lib/python3.8/site-packages (from torchvision>=0.8.1->-r requirements.txt (line 11)) (2.27.1)\n",
            "Collecting grpcio>=1.24.3\n",
            "  Downloading grpcio-1.46.1-cp38-cp38-manylinux_2_17_x86_64.manylinux2014_x86_64.whl (4.4 MB)\n",
            "\u001b[K     |████████████████████████████████| 4.4 MB 58.0 MB/s \n",
            "\u001b[?25hRequirement already satisfied: setuptools>=41.0.0 in /usr/local/lib/python3.8/site-packages (from tensorboard>=2.4.1->-r requirements.txt (line 15)) (61.2.0)\n",
            "Collecting tensorboard-data-server<0.7.0,>=0.6.0\n",
            "  Downloading tensorboard_data_server-0.6.1-py3-none-manylinux2010_x86_64.whl (4.9 MB)\n",
            "\u001b[K     |████████████████████████████████| 4.9 MB 60.0 MB/s \n",
            "\u001b[?25hRequirement already satisfied: wheel>=0.26 in /usr/local/lib/python3.8/site-packages (from tensorboard>=2.4.1->-r requirements.txt (line 15)) (0.37.1)\n",
            "Collecting protobuf>=3.9.2\n",
            "  Downloading protobuf-3.20.1-cp38-cp38-manylinux_2_5_x86_64.manylinux1_x86_64.whl (1.0 MB)\n",
            "\u001b[K     |████████████████████████████████| 1.0 MB 59.4 MB/s \n",
            "\u001b[?25hCollecting werkzeug>=1.0.1\n",
            "  Downloading Werkzeug-2.1.2-py3-none-any.whl (224 kB)\n",
            "\u001b[K     |████████████████████████████████| 224 kB 81.5 MB/s \n",
            "\u001b[?25hCollecting google-auth-oauthlib<0.5,>=0.4.1\n",
            "  Downloading google_auth_oauthlib-0.4.6-py2.py3-none-any.whl (18 kB)\n",
            "Collecting absl-py>=0.4\n",
            "  Downloading absl_py-1.0.0-py3-none-any.whl (126 kB)\n",
            "\u001b[K     |████████████████████████████████| 126 kB 85.4 MB/s \n",
            "\u001b[?25hCollecting google-auth<3,>=1.6.3\n",
            "  Downloading google_auth-2.6.6-py2.py3-none-any.whl (156 kB)\n",
            "\u001b[K     |████████████████████████████████| 156 kB 75.6 MB/s \n",
            "\u001b[?25hCollecting tensorboard-plugin-wit>=1.6.0\n",
            "  Downloading tensorboard_plugin_wit-1.8.1-py3-none-any.whl (781 kB)\n",
            "\u001b[K     |████████████████████████████████| 781 kB 76.5 MB/s \n",
            "\u001b[?25hCollecting markdown>=2.6.8\n",
            "  Downloading Markdown-3.3.7-py3-none-any.whl (97 kB)\n",
            "\u001b[K     |████████████████████████████████| 97 kB 10.3 MB/s \n",
            "\u001b[?25hCollecting pytz>=2020.1\n",
            "  Downloading pytz-2022.1-py2.py3-none-any.whl (503 kB)\n",
            "\u001b[K     |████████████████████████████████| 503 kB 80.5 MB/s \n",
            "\u001b[?25hCollecting six\n",
            "  Downloading six-1.16.0-py2.py3-none-any.whl (11 kB)\n",
            "Collecting pyasn1-modules>=0.2.1\n",
            "  Downloading pyasn1_modules-0.2.8-py2.py3-none-any.whl (155 kB)\n",
            "\u001b[K     |████████████████████████████████| 155 kB 83.1 MB/s \n",
            "\u001b[?25hCollecting rsa<5,>=3.1.4\n",
            "  Downloading rsa-4.8-py3-none-any.whl (39 kB)\n",
            "Collecting cachetools<6.0,>=2.0.0\n",
            "  Downloading cachetools-5.0.0-py3-none-any.whl (9.1 kB)\n",
            "Collecting requests-oauthlib>=0.7.0\n",
            "  Downloading requests_oauthlib-1.3.1-py2.py3-none-any.whl (23 kB)\n",
            "Collecting importlib-metadata>=4.4\n",
            "  Downloading importlib_metadata-4.11.3-py3-none-any.whl (18 kB)\n",
            "Collecting zipp>=0.5\n",
            "  Downloading zipp-3.8.0-py3-none-any.whl (5.4 kB)\n",
            "Collecting pyasn1<0.5.0,>=0.4.6\n",
            "  Downloading pyasn1-0.4.8-py2.py3-none-any.whl (77 kB)\n",
            "\u001b[K     |████████████████████████████████| 77 kB 8.1 MB/s \n",
            "\u001b[?25hRequirement already satisfied: urllib3<1.27,>=1.21.1 in /usr/local/lib/python3.8/site-packages (from requests->torchvision>=0.8.1->-r requirements.txt (line 11)) (1.26.9)\n",
            "Requirement already satisfied: charset-normalizer~=2.0.0 in /usr/local/lib/python3.8/site-packages (from requests->torchvision>=0.8.1->-r requirements.txt (line 11)) (2.0.4)\n",
            "Requirement already satisfied: idna<4,>=2.5 in /usr/local/lib/python3.8/site-packages (from requests->torchvision>=0.8.1->-r requirements.txt (line 11)) (3.3)\n",
            "Requirement already satisfied: certifi>=2017.4.17 in /usr/local/lib/python3.8/site-packages (from requests->torchvision>=0.8.1->-r requirements.txt (line 11)) (2021.10.8)\n",
            "Collecting oauthlib>=3.0.0\n",
            "  Downloading oauthlib-3.2.0-py3-none-any.whl (151 kB)\n",
            "\u001b[K     |████████████████████████████████| 151 kB 84.6 MB/s \n",
            "\u001b[?25hInstalling collected packages: pyasn1, zipp, six, rsa, pyparsing, pyasn1-modules, oauthlib, cachetools, typing-extensions, requests-oauthlib, pytz, python-dateutil, Pillow, packaging, numpy, kiwisolver, importlib-metadata, google-auth, fonttools, cycler, werkzeug, torch, tensorboard-plugin-wit, tensorboard-data-server, scipy, protobuf, pandas, matplotlib, markdown, grpcio, google-auth-oauthlib, absl-py, torchvision, thop, tensorboard, seaborn, PyYAML, opencv-python\n",
            "Successfully installed Pillow-9.1.0 PyYAML-6.0 absl-py-1.0.0 cachetools-5.0.0 cycler-0.11.0 fonttools-4.33.3 google-auth-2.6.6 google-auth-oauthlib-0.4.6 grpcio-1.46.1 importlib-metadata-4.11.3 kiwisolver-1.4.2 markdown-3.3.7 matplotlib-3.5.2 numpy-1.22.3 oauthlib-3.2.0 opencv-python-4.5.5.64 packaging-21.3 pandas-1.4.2 protobuf-3.20.1 pyasn1-0.4.8 pyasn1-modules-0.2.8 pyparsing-3.0.9 python-dateutil-2.8.2 pytz-2022.1 requests-oauthlib-1.3.1 rsa-4.8 scipy-1.8.0 seaborn-0.11.2 six-1.16.0 tensorboard-2.9.0 tensorboard-data-server-0.6.1 tensorboard-plugin-wit-1.8.1 thop-0.0.31.post2005241907 torch-1.11.0 torchvision-0.12.0 typing-extensions-4.2.0 werkzeug-2.1.2 zipp-3.8.0\n",
            "\u001b[33mWARNING: Running pip as the 'root' user can result in broken permissions and conflicting behaviour with the system package manager. It is recommended to use a virtual environment instead: https://pip.pypa.io/warnings/venv\u001b[0m\n"
          ]
        }
      ]
    },
    {
      "cell_type": "code",
      "source": [
        "!conda env remove -p /usr/local/envs/graduation_design\n",
        "\n"
      ],
      "metadata": {
        "colab": {
          "base_uri": "https://localhost:8080/"
        },
        "id": "szYBNIKOVa8C",
        "outputId": "03073b7a-380f-4672-a66d-0d5738154576"
      },
      "execution_count": 91,
      "outputs": [
        {
          "output_type": "stream",
          "name": "stdout",
          "text": [
            "\n",
            "Remove all packages in environment /usr/local/envs/graduation_design:\n",
            "\n"
          ]
        }
      ]
    },
    {
      "cell_type": "code",
      "source": [
        "!pip3 -V"
      ],
      "metadata": {
        "colab": {
          "base_uri": "https://localhost:8080/"
        },
        "id": "mK4tYcdhLMyG",
        "outputId": "e4fca53f-6678-4a84-ae65-6fe48f7980e0"
      },
      "execution_count": 93,
      "outputs": [
        {
          "output_type": "stream",
          "name": "stdout",
          "text": [
            "pip 21.2.4 from /usr/local/lib/python3.8/site-packages/pip (python 3.8)\n"
          ]
        }
      ]
    },
    {
      "cell_type": "code",
      "source": [
        "# colab更改当前目录\n",
        "import os\n",
        "\n",
        "path = \"/content/gdrive/MyDrive/Deeplearning/students-inclassroom-monitoring\"\n",
        "os.chdir(path)\n",
        "os.listdir(path)"
      ],
      "metadata": {
        "colab": {
          "base_uri": "https://localhost:8080/"
        },
        "id": "2g2KJpxVBgvM",
        "outputId": "56a750d3-f235-4397-a076-3995dc6fe5a8"
      },
      "execution_count": null,
      "outputs": [
        {
          "output_type": "execute_result",
          "data": {
            "text/plain": [
              "['LICENSE',\n",
              " 'requirements.txt',\n",
              " 'README.md',\n",
              " 'detect.sh',\n",
              " 'train.sh',\n",
              " 'hellodata.py',\n",
              " '222.py',\n",
              " 'xml2txt.py',\n",
              " 'cuda_available.py',\n",
              " 'res',\n",
              " 'wandb',\n",
              " '__pycache__',\n",
              " 'coco128',\n",
              " 'runs',\n",
              " 'yolov5',\n",
              " 'dataset']"
            ]
          },
          "metadata": {},
          "execution_count": 37
        }
      ]
    },
    {
      "cell_type": "code",
      "source": [
        "!pip install torch==1.7.1+cu110 torchvision==0.8.2+cu110 torchaudio==0.7.2 -f https://download.pytorch.org/whl/torch_stable.html"
      ],
      "metadata": {
        "colab": {
          "base_uri": "https://localhost:8080/"
        },
        "id": "wlu0gSozWrt8",
        "outputId": "c6135fd2-6f8d-464f-cede-dcfdae339342"
      },
      "execution_count": 94,
      "outputs": [
        {
          "output_type": "stream",
          "name": "stdout",
          "text": [
            "Looking in links: https://download.pytorch.org/whl/torch_stable.html\n",
            "Collecting torch==1.7.1+cu110\n",
            "  Downloading https://download.pytorch.org/whl/cu110/torch-1.7.1%2Bcu110-cp38-cp38-linux_x86_64.whl (1156.8 MB)\n",
            "\u001b[K     |███████████████████████         | 834.1 MB 1.2 MB/s eta 0:04:31tcmalloc: large alloc 1147494400 bytes == 0x561c4db26000 @  0x7ffab0c39615 0x561c151babcd 0x561c151bb988 0x561c151c8d15 0x561c15222e60 0x561c15218600 0x561c15219b64 0x561c151b2b2e 0x561c15227923 0x561c15218600 0x561c15219bc4 0x561c151b2b2e 0x561c15223eb0 0x561c151e150a 0x561c15223474 0x561c151e150a 0x561c15223474 0x561c151e150a 0x561c15223474 0x561c152197e7 0x561c151aa62f 0x561c151e0d2b 0x561c1517d13f 0x561c1522789f 0x561c15218600 0x561c15219bc4 0x561c15223eb0 0x561c15218600 0x561c15219b64 0x561c152230bb 0x561c152197e7\n",
            "\u001b[K     |█████████████████████████████▏  | 1055.7 MB 63.2 MB/s eta 0:00:02tcmalloc: large alloc 1434370048 bytes == 0x561c9217c000 @  0x7ffab0c39615 0x561c151babcd 0x561c151bb988 0x561c151c8d15 0x561c15222e60 0x561c15218600 0x561c15219b64 0x561c151b2b2e 0x561c15227923 0x561c15218600 0x561c15219bc4 0x561c151b2b2e 0x561c15223eb0 0x561c151e150a 0x561c15223474 0x561c151e150a 0x561c15223474 0x561c151e150a 0x561c15223474 0x561c152197e7 0x561c151aa62f 0x561c151e0d2b 0x561c1517d13f 0x561c1522789f 0x561c15218600 0x561c15219bc4 0x561c15223eb0 0x561c15218600 0x561c15219b64 0x561c152230bb 0x561c152197e7\n",
            "\u001b[K     |████████████████████████████████| 1156.8 MB 1.2 MB/s eta 0:00:01tcmalloc: large alloc 1445961728 bytes == 0x561ce7968000 @  0x7ffab0c39615 0x561c151babcd 0x561c151bb988 0x561c151c8d15 0x561c15222e60 0x561c15218600 0x561c15219b64 0x561c15222e60 0x561c15218600 0x561c15219b64 0x561c15222e60 0x561c15218600 0x561c15219b64 0x561c15222e60 0x561c15218600 0x561c15219b64 0x561c15222e60 0x561c15218600 0x561c15219b64 0x561c15222e60 0x561c152197e7 0x561c15222e60 0x561c15218600 0x561c15219bc4 0x561c15223eb0 0x561c15218600 0x561c15219bc4 0x561c151b2b2e 0x561c15223eb0 0x561c15218600 0x561c15219b64\n",
            "\u001b[K     |████████████████████████████████| 1156.8 MB 14 kB/s \n",
            "\u001b[?25hCollecting torchvision==0.8.2+cu110\n",
            "  Downloading https://download.pytorch.org/whl/cu110/torchvision-0.8.2%2Bcu110-cp38-cp38-linux_x86_64.whl (12.9 MB)\n",
            "\u001b[K     |████████████████████████████████| 12.9 MB 55.1 MB/s \n",
            "\u001b[?25hCollecting torchaudio==0.7.2\n",
            "  Downloading torchaudio-0.7.2-cp38-cp38-manylinux1_x86_64.whl (7.6 MB)\n",
            "\u001b[K     |████████████████████████████████| 7.6 MB 8.7 MB/s \n",
            "\u001b[?25hRequirement already satisfied: typing-extensions in /usr/local/lib/python3.8/site-packages (from torch==1.7.1+cu110) (4.2.0)\n",
            "Requirement already satisfied: numpy in /usr/local/lib/python3.8/site-packages (from torch==1.7.1+cu110) (1.22.3)\n",
            "Requirement already satisfied: pillow>=4.1.1 in /usr/local/lib/python3.8/site-packages (from torchvision==0.8.2+cu110) (9.1.0)\n",
            "Installing collected packages: torch, torchvision, torchaudio\n",
            "  Attempting uninstall: torch\n",
            "    Found existing installation: torch 1.11.0\n",
            "    Uninstalling torch-1.11.0:\n",
            "      Successfully uninstalled torch-1.11.0\n",
            "  Attempting uninstall: torchvision\n",
            "    Found existing installation: torchvision 0.12.0\n",
            "    Uninstalling torchvision-0.12.0:\n",
            "      Successfully uninstalled torchvision-0.12.0\n",
            "Successfully installed torch-1.7.1+cu110 torchaudio-0.7.2 torchvision-0.8.2+cu110\n",
            "\u001b[33mWARNING: Running pip as the 'root' user can result in broken permissions and conflicting behaviour with the system package manager. It is recommended to use a virtual environment instead: https://pip.pypa.io/warnings/venv\u001b[0m\n"
          ]
        }
      ]
    },
    {
      "cell_type": "code",
      "source": [
        "!bash detect.sh"
      ],
      "metadata": {
        "colab": {
          "base_uri": "https://localhost:8080/"
        },
        "id": "04J89tw6ALG9",
        "outputId": "7348f134-5aff-4699-8812-82c0810097cf"
      },
      "execution_count": 95,
      "outputs": [
        {
          "output_type": "stream",
          "name": "stdout",
          "text": [
            "Namespace(agnostic_nms=False, augment=False, classes=None, conf_thres=0.26, device='', exist_ok=False, half=False, hide_conf=False, hide_labels=False, imgsz=640, iou_thres=0.45, line_thickness=1, max_det=1000, name='exp', nosave=False, project='runs/detect', save_conf=False, save_crop=False, save_txt=False, source='yolov5/data/images', update=False, view_img=False, weights=['runs/train/exp/weights/yolov5s.pt'])\n",
            "YOLOv5 🚀 2022-4-21 torch 1.7.1+cu110 CUDA:0 (Tesla T4, 15109.75MB)\n",
            "\n",
            "Fusing layers... \n",
            "Model Summary: 224 layers, 7266973 parameters, 0 gradients\n",
            "image 1/12 /content/gdrive/MyDrive/Deeplearning/students-inclassroom-monitoring/yolov5/data/images/文件1.jpg: 320x640 16 persons, 1 bench, Done. (0.041s)\n",
            "image 2/12 /content/gdrive/MyDrive/Deeplearning/students-inclassroom-monitoring/yolov5/data/images/文件10.jpg: 640x640 17 persons, 5 bottles, 1 cup, 4 chairs, 2 cell phones, Done. (0.018s)\n",
            "image 3/12 /content/gdrive/MyDrive/Deeplearning/students-inclassroom-monitoring/yolov5/data/images/文件11.jpg: 640x640 11 persons, 3 chairs, 1 dining table, 1 laptop, Done. (0.017s)\n",
            "image 4/12 /content/gdrive/MyDrive/Deeplearning/students-inclassroom-monitoring/yolov5/data/images/文件12.jpg: 480x640 15 persons, 1 bench, 1 bottle, 2 cups, 2 chairs, 1 dining table, 1 tv, 2 cell phones, Done. (0.021s)\n",
            "image 5/12 /content/gdrive/MyDrive/Deeplearning/students-inclassroom-monitoring/yolov5/data/images/文件2.jpg: 480x640 10 persons, 2 chairs, 1 cell phone, Done. (0.019s)\n",
            "image 6/12 /content/gdrive/MyDrive/Deeplearning/students-inclassroom-monitoring/yolov5/data/images/文件3.jpg: 512x640 4 persons, 2 chairs, Done. (0.022s)\n",
            "image 7/12 /content/gdrive/MyDrive/Deeplearning/students-inclassroom-monitoring/yolov5/data/images/文件4.jpg: 448x640 13 persons, 1 cup, 6 chairs, 1 tv, Done. (0.020s)\n",
            "image 8/12 /content/gdrive/MyDrive/Deeplearning/students-inclassroom-monitoring/yolov5/data/images/文件5.jpg: 512x640 8 persons, Done. (0.020s)\n",
            "image 9/12 /content/gdrive/MyDrive/Deeplearning/students-inclassroom-monitoring/yolov5/data/images/文件6.jpg: 480x640 9 persons, 1 chair, 1 couch, Done. (0.020s)\n",
            "image 10/12 /content/gdrive/MyDrive/Deeplearning/students-inclassroom-monitoring/yolov5/data/images/文件7.jpg: 512x640 17 persons, 1 handbag, 1 frisbee, 4 chairs, 2 cell phones, Done. (0.020s)\n",
            "image 11/12 /content/gdrive/MyDrive/Deeplearning/students-inclassroom-monitoring/yolov5/data/images/文件8.jpg: 640x640 16 persons, 1 cup, 8 chairs, 1 dining table, 1 tv, 2 laptops, Done. (0.018s)\n",
            "image 12/12 /content/gdrive/MyDrive/Deeplearning/students-inclassroom-monitoring/yolov5/data/images/文件9.jpg: 480x640 9 persons, 2 benchs, 1 frisbee, 1 cup, 3 chairs, Done. (0.020s)\n",
            "Results saved to runs/detect/exp5\n",
            "Done. (6.705s)\n"
          ]
        }
      ]
    },
    {
      "cell_type": "code",
      "source": [
        "!bash train.sh"
      ],
      "metadata": {
        "colab": {
          "base_uri": "https://localhost:8080/"
        },
        "id": "Iw_1WH98XVI6",
        "outputId": "e7de9729-7d2c-4be8-fd12-f4357bc72f63"
      },
      "execution_count": null,
      "outputs": [
        {
          "output_type": "stream",
          "name": "stdout",
          "text": [
            "\u001b[34m\u001b[1mgithub: \u001b[0mskipping check (not a git repository), for updates see https://github.com/ultralytics/yolov5\n",
            "YOLOv5 🚀 2022-4-21 torch 1.7.1+cu110 CUDA:0 (Tesla T4, 15109.75MB)\n",
            "\n",
            "Namespace(adam=False, artifact_alias='latest', batch_size=32, bbox_interval=-1, bucket='', cache_images=False, cfg='./yolov5/models/yolov5s.yaml', data='./yolov5/data/headset.yaml', device='', entity=None, epochs=50, evolve=False, exist_ok=False, global_rank=-1, hyp='./yolov5/data/hyp.scratch.yaml', image_weights=False, img_size=[640, 640], label_smoothing=0.0, linear_lr=False, local_rank=-1, multi_scale=False, name='exp', noautoanchor=False, nosave=False, notest=False, project='runs/train', quad=False, rect=False, resume=False, save_dir='runs/train/exp10', save_period=-1, single_cls=False, sync_bn=False, total_batch_size=32, upload_dataset=False, weights='yolov5/weights/yolov5s.pt', workers=8, world_size=1)\n",
            "\u001b[34m\u001b[1mtensorboard: \u001b[0mStart with 'tensorboard --logdir runs/train', view at http://localhost:6006/\n",
            "\u001b[34m\u001b[1mhyperparameters: \u001b[0mlr0=0.01, lrf=0.1, momentum=0.937, weight_decay=0.0005, warmup_epochs=3.0, warmup_momentum=0.8, warmup_bias_lr=0.1, box=0.05, cls=0.5, cls_pw=1.0, obj=1.0, obj_pw=1.0, iou_t=0.2, anchor_t=4.0, fl_gamma=0.0, hsv_h=0.015, hsv_s=0.7, hsv_v=0.4, degrees=0.0, translate=0.1, scale=0.5, shear=0.0, perspective=0.0, flipud=0.0, fliplr=0.5, mosaic=1.0, mixup=0.0, copy_paste=0.0\n",
            "\u001b[34m\u001b[1mwandb: \u001b[0mInstall Weights & Biases for YOLOv5 logging with 'pip install wandb' (recommended)\n",
            "Overriding model.yaml nc=80 with nc=1\n",
            "\n",
            "                 from  n    params  module                                  arguments                     \n",
            "  0                -1  1      3520  models.common.Focus                     [3, 32, 3]                    \n",
            "  1                -1  1     18560  models.common.Conv                      [32, 64, 3, 2]                \n",
            "  2                -1  1     18816  models.common.C3                        [64, 64, 1]                   \n",
            "  3                -1  1     73984  models.common.Conv                      [64, 128, 3, 2]               \n",
            "  4                -1  1    156928  models.common.C3                        [128, 128, 3]                 \n",
            "  5                -1  1    295424  models.common.Conv                      [128, 256, 3, 2]              \n",
            "  6                -1  1    625152  models.common.C3                        [256, 256, 3]                 \n",
            "  7                -1  1   1180672  models.common.Conv                      [256, 512, 3, 2]              \n",
            "  8                -1  1    656896  models.common.SPP                       [512, 512, [5, 9, 13]]        \n",
            "  9                -1  1   1182720  models.common.C3                        [512, 512, 1, False]          \n",
            " 10                -1  1    131584  models.common.Conv                      [512, 256, 1, 1]              \n",
            " 11                -1  1         0  torch.nn.modules.upsampling.Upsample    [None, 2, 'nearest']          \n",
            " 12           [-1, 6]  1         0  models.common.Concat                    [1]                           \n",
            " 13                -1  1    361984  models.common.C3                        [512, 256, 1, False]          \n",
            " 14                -1  1     33024  models.common.Conv                      [256, 128, 1, 1]              \n",
            " 15                -1  1         0  torch.nn.modules.upsampling.Upsample    [None, 2, 'nearest']          \n",
            " 16           [-1, 4]  1         0  models.common.Concat                    [1]                           \n",
            " 17                -1  1     90880  models.common.C3                        [256, 128, 1, False]          \n",
            " 18                -1  1    147712  models.common.Conv                      [128, 128, 3, 2]              \n",
            " 19          [-1, 14]  1         0  models.common.Concat                    [1]                           \n",
            " 20                -1  1    296448  models.common.C3                        [256, 256, 1, False]          \n",
            " 21                -1  1    590336  models.common.Conv                      [256, 256, 3, 2]              \n",
            " 22          [-1, 10]  1         0  models.common.Concat                    [1]                           \n",
            " 23                -1  1   1182720  models.common.C3                        [512, 512, 1, False]          \n",
            " 24      [17, 20, 23]  1     16182  models.yolo.Detect                      [1, [[10, 13, 16, 30, 33, 23], [30, 61, 62, 45, 59, 119], [116, 90, 156, 198, 373, 326]], [128, 256, 512]]\n",
            "Model Summary: 283 layers, 7063542 parameters, 7063542 gradients, 16.4 GFLOPs\n",
            "\n",
            "Transferred 354/362 items from yolov5/weights/yolov5s.pt\n",
            "Scaled weight_decay = 0.0005\n",
            "Optimizer groups: 62 .bias, 62 conv.weight, 59 other\n",
            "\u001b[34m\u001b[1mtrain: \u001b[0mScanning '../students-inclassroom-monitoring/dataset/labels.cache' images and labels... 4342 found, 0 missing, 1 empty, 0 corrupted: 100% 4342/4342 [00:00<?, ?it/s]\n",
            "\u001b[34m\u001b[1mval: \u001b[0mScanning '../students-inclassroom-monitoring/dataset/labels.cache' images and labels... 4342 found, 0 missing, 1 empty, 0 corrupted: 100% 4342/4342 [00:00<?, ?it/s]\n",
            "Plotting labels... \n",
            "\n",
            "\u001b[34m\u001b[1mautoanchor: \u001b[0mAnalyzing anchors... anchors/target = 4.16, Best Possible Recall (BPR) = 0.9999\n",
            "Image sizes 640 train, 640 test\n",
            "Using 2 dataloader workers\n",
            "Logging results to runs/train/exp10\n",
            "Starting training for 50 epochs...\n",
            "\n",
            "     Epoch   gpu_mem       box       obj       cls     total    labels  img_size\n",
            "      0/49     7.83G   0.09709    0.1059         0     0.203      1149       640: 100% 136/136 [06:16<00:00,  2.77s/it]\n",
            "               Class     Images     Labels          P          R     mAP@.5 mAP@.5:.95: 100% 68/68 [01:49<00:00,  1.62s/it]\n",
            "                 all       4342          0          0          0          0          0\n",
            "\n",
            "     Epoch   gpu_mem       box       obj       cls     total    labels  img_size\n",
            "      1/49     11.6G   0.06696   0.09785         0    0.1648       939       640: 100% 136/136 [05:03<00:00,  2.23s/it]\n",
            "               Class     Images     Labels          P          R     mAP@.5 mAP@.5:.95: 100% 68/68 [01:38<00:00,  1.45s/it]\n",
            "                 all       4342          0          0          0          0          0\n",
            "\n",
            "     Epoch   gpu_mem       box       obj       cls     total    labels  img_size\n",
            "      2/49     11.6G   0.05881   0.09644         0    0.1552      1026       640: 100% 136/136 [04:59<00:00,  2.20s/it]\n",
            "               Class     Images     Labels          P          R     mAP@.5 mAP@.5:.95: 100% 68/68 [01:39<00:00,  1.47s/it]\n",
            "                 all       4342          0          0          0          0          0\n",
            "\n",
            "     Epoch   gpu_mem       box       obj       cls     total    labels  img_size\n",
            "      3/49     11.6G   0.05733   0.09967         0     0.157      1157       640: 100% 136/136 [05:05<00:00,  2.25s/it]\n",
            "               Class     Images     Labels          P          R     mAP@.5 mAP@.5:.95: 100% 68/68 [01:38<00:00,  1.46s/it]\n",
            "                 all       4342          0          0          0          0          0\n",
            "\n",
            "     Epoch   gpu_mem       box       obj       cls     total    labels  img_size\n",
            "      4/49     11.6G    0.0581   0.09326         0    0.1514       771       640: 100% 136/136 [05:03<00:00,  2.23s/it]\n",
            "               Class     Images     Labels          P          R     mAP@.5 mAP@.5:.95: 100% 68/68 [01:36<00:00,  1.42s/it]\n",
            "                 all       4342          0          0          0          0          0\n",
            "\n",
            "     Epoch   gpu_mem       box       obj       cls     total    labels  img_size\n",
            "      5/49     11.6G   0.05368   0.09412         0    0.1478       778       640: 100% 136/136 [04:57<00:00,  2.19s/it]\n",
            "               Class     Images     Labels          P          R     mAP@.5 mAP@.5:.95: 100% 68/68 [01:37<00:00,  1.44s/it]\n",
            "                 all       4342          0          0          0          0          0\n",
            "\n",
            "     Epoch   gpu_mem       box       obj       cls     total    labels  img_size\n",
            "      6/49     11.6G    0.0503   0.09508         0    0.1454       775       640: 100% 136/136 [04:59<00:00,  2.20s/it]\n",
            "               Class     Images     Labels          P          R     mAP@.5 mAP@.5:.95: 100% 68/68 [01:37<00:00,  1.44s/it]\n",
            "                 all       4342          0          0          0          0          0\n",
            "\n",
            "     Epoch   gpu_mem       box       obj       cls     total    labels  img_size\n",
            "      7/49     11.6G   0.04827    0.0928         0    0.1411       790       640: 100% 136/136 [04:55<00:00,  2.17s/it]\n",
            "               Class     Images     Labels          P          R     mAP@.5 mAP@.5:.95: 100% 68/68 [01:36<00:00,  1.42s/it]\n",
            "                 all       4342          0          0          0          0          0\n",
            "\n",
            "     Epoch   gpu_mem       box       obj       cls     total    labels  img_size\n",
            "      8/49     11.6G   0.04703   0.09058         0    0.1376       939       640: 100% 136/136 [05:01<00:00,  2.21s/it]\n",
            "               Class     Images     Labels          P          R     mAP@.5 mAP@.5:.95: 100% 68/68 [01:35<00:00,  1.41s/it]\n",
            "                 all       4342          0          0          0          0          0\n",
            "\n",
            "     Epoch   gpu_mem       box       obj       cls     total    labels  img_size\n",
            "      9/49     11.6G   0.04542    0.0898         0    0.1352       905       640: 100% 136/136 [04:58<00:00,  2.19s/it]\n",
            "               Class     Images     Labels          P          R     mAP@.5 mAP@.5:.95: 100% 68/68 [01:36<00:00,  1.42s/it]\n",
            "                 all       4342          0          0          0          0          0\n",
            "\n",
            "     Epoch   gpu_mem       box       obj       cls     total    labels  img_size\n",
            "     10/49     11.6G   0.04507   0.09066         0    0.1357       934       640: 100% 136/136 [04:54<00:00,  2.17s/it]\n",
            "               Class     Images     Labels          P          R     mAP@.5 mAP@.5:.95: 100% 68/68 [01:38<00:00,  1.45s/it]\n",
            "                 all       4342          0          0          0          0          0\n",
            "\n",
            "     Epoch   gpu_mem       box       obj       cls     total    labels  img_size\n",
            "     11/49     11.6G   0.04462   0.09107         0    0.1357       932       640: 100% 136/136 [04:56<00:00,  2.18s/it]\n",
            "               Class     Images     Labels          P          R     mAP@.5 mAP@.5:.95: 100% 68/68 [01:37<00:00,  1.43s/it]\n",
            "                 all       4342          0          0          0          0          0\n",
            "\n",
            "     Epoch   gpu_mem       box       obj       cls     total    labels  img_size\n",
            "     12/49     11.6G     0.044    0.0894         0    0.1334       761       640: 100% 136/136 [04:54<00:00,  2.16s/it]\n",
            "               Class     Images     Labels          P          R     mAP@.5 mAP@.5:.95: 100% 68/68 [01:36<00:00,  1.43s/it]\n",
            "                 all       4342          0          0          0          0          0\n",
            "\n",
            "     Epoch   gpu_mem       box       obj       cls     total    labels  img_size\n",
            "     13/49     11.6G   0.04393   0.08832         0    0.1323       900       640: 100% 136/136 [04:52<00:00,  2.15s/it]\n",
            "               Class     Images     Labels          P          R     mAP@.5 mAP@.5:.95: 100% 68/68 [01:36<00:00,  1.42s/it]\n",
            "                 all       4342          0          0          0          0          0\n",
            "\n",
            "     Epoch   gpu_mem       box       obj       cls     total    labels  img_size\n",
            "     14/49     11.6G   0.04327   0.08803         0    0.1313       692       640: 100% 136/136 [04:59<00:00,  2.20s/it]\n",
            "               Class     Images     Labels          P          R     mAP@.5 mAP@.5:.95: 100% 68/68 [01:39<00:00,  1.47s/it]\n",
            "                 all       4342          0          0          0          0          0\n",
            "\n",
            "     Epoch   gpu_mem       box       obj       cls     total    labels  img_size\n",
            "     15/49     11.6G   0.04317   0.08909         0    0.1323      1284       640: 100% 136/136 [05:09<00:00,  2.28s/it]\n",
            "               Class     Images     Labels          P          R     mAP@.5 mAP@.5:.95: 100% 68/68 [01:37<00:00,  1.44s/it]\n",
            "                 all       4342          0          0          0          0          0\n",
            "\n",
            "     Epoch   gpu_mem       box       obj       cls     total    labels  img_size\n",
            "     16/49     11.6G   0.04307   0.08771         0    0.1308      1095       640: 100% 136/136 [05:06<00:00,  2.26s/it]\n",
            "               Class     Images     Labels          P          R     mAP@.5 mAP@.5:.95: 100% 68/68 [01:44<00:00,  1.54s/it]\n",
            "                 all       4342          0          0          0          0          0\n",
            "\n",
            "     Epoch   gpu_mem       box       obj       cls     total    labels  img_size\n",
            "     17/49     11.6G   0.04263   0.08693         0    0.1296      1039       640: 100% 136/136 [05:07<00:00,  2.26s/it]\n",
            "               Class     Images     Labels          P          R     mAP@.5 mAP@.5:.95: 100% 68/68 [01:39<00:00,  1.47s/it]\n",
            "                 all       4342          0          0          0          0          0\n",
            "\n",
            "     Epoch   gpu_mem       box       obj       cls     total    labels  img_size\n",
            "     18/49     11.6G   0.04258   0.08788         0    0.1305       919       640: 100% 136/136 [05:03<00:00,  2.23s/it]\n",
            "               Class     Images     Labels          P          R     mAP@.5 mAP@.5:.95: 100% 68/68 [01:39<00:00,  1.46s/it]\n",
            "                 all       4342          0          0          0          0          0\n",
            "\n",
            "     Epoch   gpu_mem       box       obj       cls     total    labels  img_size\n",
            "     19/49     11.6G    0.0442   0.08329         0    0.1275      1558       640:  32% 44/136 [01:31<02:51,  1.86s/it]"
          ]
        }
      ]
    },
    {
      "cell_type": "code",
      "source": [
        "import torch\n",
        "placeholder = torch.Tensor([1000, 1000, 1000]).cuda()"
      ],
      "metadata": {
        "id": "YYWjF6_YAnzM"
      },
      "execution_count": null,
      "outputs": []
    },
    {
      "cell_type": "code",
      "source": [
        "!bash train.sh"
      ],
      "metadata": {
        "id": "PTMudVw-e0En"
      },
      "execution_count": null,
      "outputs": []
    }
  ]
}